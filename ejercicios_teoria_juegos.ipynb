{
 "cells": [
  {
   "cell_type": "markdown",
   "id": "9fff7b3b",
   "metadata": {},
   "source": [
    "<a href=\"https://colab.research.google.com/github/leomos2022/Cartilla_Digital/blob/main/ejercicios_teoria_juegos.ipynb\" target=\"_parent\"><img src=\"https://colab.research.google.com/assets/colab-badge.svg\" alt=\"Open In Colab\"/></a>"
   ]
  },
  {
   "cell_type": "markdown",
   "id": "a6b9f346",
   "metadata": {},
   "source": [
    "# 🎓 Ejercicios Prácticos: Teoría de Juegos en IA\\n\\n**Cartilla Digital de Fundamentos de Teoría de Juegos en Inteligencia Artificial**\\n\\nEste notebook contiene ejercicios prácticos complementarios a la cartilla digital. Implementaremos y analizaremos los algoritmos estudiados."
   ]
  },
  {
   "cell_type": "markdown",
   "id": "ee283927",
   "metadata": {},
   "source": [
    "## 📚 Configuración Inicial\\n\\nImportamos las librerías necesarias para nuestros ejercicios:"
   ]
  },
  {
   "cell_type": "code",
   "execution_count": null,
   "id": "fbde68db",
   "metadata": {},
   "outputs": [],
   "source": [
    "import numpy as np\\nimport matplotlib.pyplot as plt\\nimport seaborn as sns\\nimport random\\nimport time\\nfrom collections import defaultdict, Counter\\nimport pandas as pd\\nfrom sklearn.ensemble import RandomForestClassifier\\nfrom sklearn.model_selection import train_test_split\\nfrom sklearn.metrics import accuracy_score, classification_report\\n\\n# Configuración de visualización\\nplt.style.use('seaborn-v0_8')\\nsns.set_palette(\\\n",
    ")\\nnp.random.seed(42)\\nrandom.seed(42)\\n\\nprint(\\\n",
    ")\\nprint(\\\n",
    ")"
   ]
  },
  {
   "cell_type": "markdown",
   "id": "0f9b1548",
   "metadata": {},
   "source": [
    "## 🎯 Ejercicio 1: Implementación del Algoritmo Minimax\\n\\nImplementaremos el algoritmo Minimax clásico para el juego Piedra-Papel-Tijeras:"
   ]
  },
  {
   "cell_type": "code",
   "execution_count": null,
   "id": "f3db4c45",
   "metadata": {},
   "outputs": [],
   "source": [
    "class MinimaxPlayer:\\n    def __init__(self):\\n        self.choices = ['rock', 'paper', 'scissors']\\n        self.wins = {'rock': 'scissors', 'paper': 'rock', 'scissors': 'paper'}\\n        self.history = []\\n    \\n    def evaluate_outcome(self, my_choice, opponent_choice):\\n        \\\n",
    "\\\n",
    "\\\n",
    "\\"
   ]
  }
 ],
 "metadata": {
  "language_info": {
   "name": "python"
  }
 },
 "nbformat": 4,
 "nbformat_minor": 5
}
